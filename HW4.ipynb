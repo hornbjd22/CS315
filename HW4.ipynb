{
  "nbformat": 4,
  "nbformat_minor": 0,
  "metadata": {
    "colab": {
      "provenance": [],
      "authorship_tag": "ABX9TyNTJWOLNyN4s/8VTcsvqc3N",
      "include_colab_link": true
    },
    "kernelspec": {
      "name": "python3",
      "display_name": "Python 3"
    },
    "language_info": {
      "name": "python"
    }
  },
  "cells": [
    {
      "cell_type": "markdown",
      "metadata": {
        "id": "view-in-github",
        "colab_type": "text"
      },
      "source": [
        "<a href=\"https://colab.research.google.com/github/hornbjd22/CS315/blob/main/HW4.ipynb\" target=\"_parent\"><img src=\"https://colab.research.google.com/assets/colab-badge.svg\" alt=\"Open In Colab\"/></a>"
      ]
    },
    {
      "cell_type": "code",
      "source": [
        "#Jacob Hornberger\n",
        "#10/1/25\n",
        "#Purpose: Code for HW4 that takes 4 different sorts and adds a run-time for random sort"
      ],
      "metadata": {
        "id": "NxdSuJFwehAW"
      },
      "execution_count": null,
      "outputs": []
    },
    {
      "cell_type": "code",
      "execution_count": 5,
      "metadata": {
        "id": "YL9L6RiZVAT7"
      },
      "outputs": [],
      "source": [
        "import random\n",
        "import time"
      ]
    },
    {
      "cell_type": "code",
      "source": [
        "#quicksort\n",
        "def Quicksort(A,p,r,print_flag):\n",
        "    if p < r:\n",
        "        q  = Partition(A , p , r)\n",
        "        if print_flag:\n",
        "            print(A)\n",
        "        Quicksort(A , p , q-1,print_flag)\n",
        "        Quicksort(A , q+1 , r,print_flag)"
      ],
      "metadata": {
        "id": "yuhRM1p0VVl-"
      },
      "execution_count": 4,
      "outputs": []
    },
    {
      "cell_type": "code",
      "source": [
        "#insertion sort\n",
        "def insertion(B, print_flag):\n",
        "  n=len(B)\n",
        "  for i in range(1, n):\n",
        "    key = B[i]\n",
        "    j = i - 1\n",
        "    while j >= 0 and B[j] > key:\n",
        "      B[j + 1] = B[j]\n",
        "      j = j - 1\n",
        "    B[j + 1] = key\n",
        "    if print_flag:\n",
        "      print(B)"
      ],
      "metadata": {
        "id": "FQBKTWh_WED6"
      },
      "execution_count": 3,
      "outputs": []
    },
    {
      "cell_type": "code",
      "source": [
        "#selection sort\n",
        "def selection(A, print_flag):\n",
        "    n = len(A)\n",
        "    for i in range(n - 1):\n",
        "        smallest = i\n",
        "        for j in range(i + 1, n):\n",
        "            if A[j] < A[smallest]:\n",
        "                smallest = j\n",
        "        A[i], A[smallest] = A[smallest], A[i]\n",
        "        if print_flag:\n",
        "            print(A)"
      ],
      "metadata": {
        "id": "ughH-iCcbtkx"
      },
      "execution_count": 9,
      "outputs": []
    },
    {
      "cell_type": "code",
      "source": [
        "#MergeSort\n",
        "def Mergesort(A,p,r,print_flag):\n",
        "    if p >= r:\n",
        "        return\n",
        "    q = (p+r)//2\n",
        "\n",
        "    # Modify the following three calls:\n",
        "    Mergesort()\n",
        "    Mergesort()\n",
        "    Merge()\n",
        "\n",
        "    if print_flag:\n",
        "      print(A)\n",
        "    return"
      ],
      "metadata": {
        "id": "dO-jYPdWcRaq"
      },
      "execution_count": null,
      "outputs": []
    }
  ]
}