{
  "nbformat": 4,
  "nbformat_minor": 0,
  "metadata": {
    "colab": {
      "provenance": [],
      "authorship_tag": "ABX9TyOrrs8Ytx/JqrJESsvzVgsS",
      "include_colab_link": true
    },
    "kernelspec": {
      "name": "python3",
      "display_name": "Python 3"
    },
    "language_info": {
      "name": "python"
    }
  },
  "cells": [
    {
      "cell_type": "markdown",
      "metadata": {
        "id": "view-in-github",
        "colab_type": "text"
      },
      "source": [
        "<a href=\"https://colab.research.google.com/github/hornbjd22/CS315/blob/main/HW4.ipynb\" target=\"_parent\"><img src=\"https://colab.research.google.com/assets/colab-badge.svg\" alt=\"Open In Colab\"/></a>"
      ]
    },
    {
      "cell_type": "code",
      "source": [
        "#Jacob Hornberger\n",
        "#10/1/25\n",
        "#Purpose: Code for HW4 that takes 4 different sorts and adds a run-time for random sort"
      ],
      "metadata": {
        "id": "NxdSuJFwehAW"
      },
      "execution_count": null,
      "outputs": []
    },
    {
      "cell_type": "code",
      "execution_count": 3,
      "metadata": {
        "id": "YL9L6RiZVAT7"
      },
      "outputs": [],
      "source": [
        "import random\n",
        "import time"
      ]
    },
    {
      "cell_type": "code",
      "source": [
        "#quicksort and partition\n",
        "def Partition(A, p, r):\n",
        "    x = A[r]\n",
        "    i = p - 1\n",
        "    for j in range(p, r):\n",
        "        if A[j] <= x:\n",
        "            i += 1\n",
        "            temp = A[i]\n",
        "            A[i] = A[j]\n",
        "            A[j] = temp\n",
        "    temp = A[i + 1]\n",
        "    A[i + 1] = A[r]\n",
        "    A[r] = temp\n",
        "\n",
        "    return i + 1\n",
        "\n",
        "def Quicksort(A, p, r):\n",
        "    if p < r:\n",
        "        q = Partition(A, p, r)\n",
        "        Quicksort(A, p, q - 1)\n",
        "        Quicksort(A, q + 1, r)\n",
        "\n"
      ],
      "metadata": {
        "id": "yuhRM1p0VVl-"
      },
      "execution_count": 7,
      "outputs": []
    },
    {
      "cell_type": "code",
      "source": [
        "#insertion sort\n",
        "def insertion_sort(A):\n",
        "  for i in range (2, len(A)):\n",
        "    key = A[i]\n",
        "    j = i-1\n",
        "    while j>=0 and A[j]>key:\n",
        "      A[j+1] = A[j]\n",
        "      j = j-1\n",
        "      A[j+1] = key"
      ],
      "metadata": {
        "id": "FQBKTWh_WED6"
      },
      "execution_count": 8,
      "outputs": []
    },
    {
      "cell_type": "code",
      "source": [
        "#selection sort\n",
        "def selection(A):\n",
        "    n = len(A)\n",
        "    for i in range(0, n-1):\n",
        "        smallest = i\n",
        "        for j in range(i + 1, n):\n",
        "            if A[smallest] > A[j]:\n",
        "                smallest = j\n",
        "        temp = A[i]\n",
        "        A[i] = A[smallest]\n",
        "        A[smallest] = temp"
      ],
      "metadata": {
        "id": "ughH-iCcbtkx"
      },
      "execution_count": 12,
      "outputs": []
    },
    {
      "cell_type": "code",
      "source": [
        "#MergeSort\n",
        "def merge_sort(A):\n",
        "    if len(A) <= 1:\n",
        "      return A\n",
        "    l = Mergesort(A[:len(A)//2])\n",
        "    r = Mergesort(A[len(A)//2:])\n",
        "    return merge(l, r)\n",
        "\n",
        "def merge(l, r):\n",
        "  out = []\n",
        "  i = 0\n",
        "  j = 0\n",
        "  while i < len(l) and j < len(r):\n",
        "    if l[i] < r[j]:\n",
        "      out.append(l[i])\n",
        "      i += 1\n",
        "    else:\n",
        "      out.append(r[j])\n",
        "      j += 1\n",
        "  out.extend(l[i:])\n",
        "  out.extend(r[j:])\n",
        "  return out"
      ],
      "metadata": {
        "id": "dO-jYPdWcRaq"
      },
      "execution_count": 16,
      "outputs": []
    },
    {
      "cell_type": "code",
      "source": [
        "# Merge sort Execute\n",
        "N = random.randint(2, 50)\n",
        "A = list(range(N))\n",
        "random.shuffle(A)\n",
        "print(A)\n",
        "\n",
        "start = time.time()\n",
        "Mergesort(A)\n",
        "stop = time.time()\n",
        "\n",
        "print(\"Time:\", stop-start)\n",
        "print(A)"
      ],
      "metadata": {
        "colab": {
          "base_uri": "https://localhost:8080/"
        },
        "id": "XzmsLCRoaWQ8",
        "outputId": "2d10077a-c498-4a51-b077-0a63fb0942ae"
      },
      "execution_count": 19,
      "outputs": [
        {
          "output_type": "stream",
          "name": "stdout",
          "text": [
            "[13, 17, 10, 8, 11, 4, 14, 1, 7, 15, 9, 6, 16, 12, 3, 5, 0, 18, 2]\n",
            "Time: 0.00010848045349121094\n",
            "[13, 17, 10, 8, 11, 4, 14, 1, 7, 15, 9, 6, 16, 12, 3, 5, 0, 18, 2]\n"
          ]
        }
      ]
    },
    {
      "cell_type": "code",
      "source": [
        "#Insertion sort execute\n",
        "N = random.randint(2, 50)\n",
        "A = list(range(N))\n",
        "random.shuffle(A)\n",
        "print(A)\n",
        "\n",
        "start = time.time()\n",
        "insertion_sort(A)\n",
        "stop = time.time()\n",
        "print(\"Time:\", stop-start)\n",
        "print(A)"
      ],
      "metadata": {
        "colab": {
          "base_uri": "https://localhost:8080/"
        },
        "id": "qKipZCmNa0lG",
        "outputId": "c30c5c02-18b1-4534-e054-2cf08870e7b9"
      },
      "execution_count": 20,
      "outputs": [
        {
          "output_type": "stream",
          "name": "stdout",
          "text": [
            "[9, 6, 5, 2, 8, 7, 11, 12, 3, 4, 1, 10, 0]\n",
            "Time: 7.343292236328125e-05\n",
            "[0, 1, 2, 3, 4, 5, 9, 6, 7, 8, 10, 11, 12]\n"
          ]
        }
      ]
    },
    {
      "cell_type": "code",
      "source": [
        "# Selection sort execute\n",
        "N = random.randint(2, 50)\n",
        "A = list(range(N))\n",
        "random.shuffle(A)\n",
        "print(A)\n",
        "\n",
        "start = time.time()\n",
        "selection(A)\n",
        "stop = time.time()\n",
        "print(\"Time:\", stop-start)\n",
        "print(A)"
      ],
      "metadata": {
        "colab": {
          "base_uri": "https://localhost:8080/"
        },
        "id": "or5zbuNhbWvj",
        "outputId": "49b9fe2d-a7e7-49e8-eed7-ac4e54455db9"
      },
      "execution_count": 22,
      "outputs": [
        {
          "output_type": "stream",
          "name": "stdout",
          "text": [
            "[3, 2, 15, 12, 31, 8, 23, 1, 22, 10, 16, 6, 17, 20, 11, 14, 27, 7, 19, 13, 25, 18, 26, 5, 0, 28, 29, 24, 9, 4, 30, 21]\n",
            "Time: 8.368492126464844e-05\n",
            "[0, 1, 2, 3, 4, 5, 6, 7, 8, 9, 10, 11, 12, 13, 14, 15, 16, 17, 18, 19, 20, 21, 22, 23, 24, 25, 26, 27, 28, 29, 30, 31]\n"
          ]
        }
      ]
    },
    {
      "cell_type": "code",
      "source": [
        "# Quick sort execute\n",
        "N = random.randint(2, 50)\n",
        "A = list(range(N))\n",
        "random.shuffle(A)\n",
        "print(A)\n",
        "\n",
        "start = time.time()\n",
        "Quicksort(A, 0, N-1)\n",
        "stop = time.time()\n",
        "print(\"Time:\", stop-start)\n",
        "print(A)"
      ],
      "metadata": {
        "colab": {
          "base_uri": "https://localhost:8080/"
        },
        "id": "5hF0Hzxgb299",
        "outputId": "d7f812a8-6632-4844-a78e-e5d32618e286"
      },
      "execution_count": 24,
      "outputs": [
        {
          "output_type": "stream",
          "name": "stdout",
          "text": [
            "[21, 15, 22, 3, 19, 2, 18, 11, 4, 16, 1, 12, 7, 13, 9, 14, 8, 6, 10, 17, 24, 5, 23, 20, 26, 0, 25]\n",
            "Time: 0.00018548965454101562\n",
            "[0, 1, 2, 3, 4, 5, 6, 7, 8, 9, 10, 11, 12, 13, 14, 15, 16, 17, 18, 19, 20, 21, 22, 23, 24, 25, 26]\n"
          ]
        }
      ]
    },
    {
      "cell_type": "code",
      "source": [
        "# Python Random sorted List\n",
        "N = 10\n",
        "A = list(range(N))\n",
        "random.shuffle(A)\n",
        "print(A)\n",
        "\n",
        "start = time.time()\n",
        "A.sort()\n",
        "stop = time.time()\n",
        "\n",
        "print(\"Time:\", stop-start)\n",
        "print(A)"
      ],
      "metadata": {
        "colab": {
          "base_uri": "https://localhost:8080/"
        },
        "id": "zHCLGVT8cIJt",
        "outputId": "91ff62d5-c60b-43db-ea59-ffc903cbb6f6"
      },
      "execution_count": 4,
      "outputs": [
        {
          "output_type": "stream",
          "name": "stdout",
          "text": [
            "[4, 3, 9, 0, 2, 8, 7, 6, 1, 5]\n",
            "Time: 0.00012922286987304688\n",
            "[0, 1, 2, 3, 4, 5, 6, 7, 8, 9]\n"
          ]
        }
      ]
    },
    {
      "cell_type": "code",
      "source": [
        "# Sorted python list\n",
        "N = 10\n",
        "A = list(range(N))\n",
        "print(A)\n",
        "\n",
        "start = time.time()\n",
        "A.sort()\n",
        "stop = time.time()\n",
        "\n",
        "print(\"Time:\", stop-start)\n",
        "print(A)"
      ],
      "metadata": {
        "colab": {
          "base_uri": "https://localhost:8080/"
        },
        "id": "EaCtkw_pcsYE",
        "outputId": "6f1ac635-0c5e-412c-9db2-9d0a230f043e"
      },
      "execution_count": 5,
      "outputs": [
        {
          "output_type": "stream",
          "name": "stdout",
          "text": [
            "[0, 1, 2, 3, 4, 5, 6, 7, 8, 9]\n",
            "Time: 5.602836608886719e-05\n",
            "[0, 1, 2, 3, 4, 5, 6, 7, 8, 9]\n"
          ]
        }
      ]
    },
    {
      "cell_type": "markdown",
      "source": [
        "Gemini came in and corrected some of my stuff after I ran it and helped mostly with syntax errors"
      ],
      "metadata": {
        "id": "VceSZXCEdV9_"
      }
    }
  ]
}