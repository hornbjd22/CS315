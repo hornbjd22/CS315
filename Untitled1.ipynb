{
  "nbformat": 4,
  "nbformat_minor": 0,
  "metadata": {
    "colab": {
      "provenance": [],
      "authorship_tag": "ABX9TyOXk/cnKKJTWO2Hb0AVtcSZ",
      "include_colab_link": true
    },
    "kernelspec": {
      "name": "python3",
      "display_name": "Python 3"
    },
    "language_info": {
      "name": "python"
    }
  },
  "cells": [
    {
      "cell_type": "markdown",
      "metadata": {
        "id": "view-in-github",
        "colab_type": "text"
      },
      "source": [
        "<a href=\"https://colab.research.google.com/github/hornbjd22/CS315/blob/main/Untitled1.ipynb\" target=\"_parent\"><img src=\"https://colab.research.google.com/assets/colab-badge.svg\" alt=\"Open In Colab\"/></a>"
      ]
    },
    {
      "cell_type": "code",
      "execution_count": null,
      "metadata": {
        "id": "-OQaXCbcXlcH"
      },
      "outputs": [],
      "source": []
    },
    {
      "cell_type": "code",
      "source": [
        "def P(x,N):\n",
        "  prod=1\n",
        "  for i in range(x,x-N,-1):\n",
        "    prod*=i\n",
        "  return prod\n",
        "\n",
        "  N=4\n",
        "  print( ((12**N - P(12,N)))/12**N )"
      ],
      "metadata": {
        "id": "-FIqR55eYCl-"
      },
      "execution_count": 18,
      "outputs": []
    },
    {
      "cell_type": "code",
      "source": [
        "def P(x,N):\n",
        "  prod=1\n",
        "  for i in range (x,x-N,-1):\n",
        "    prod*=i\n",
        "  return prod\n",
        "\n",
        "for N in range(23,32):\n",
        "  print( N , ((365**N - P(365,N)))/365**N )"
      ],
      "metadata": {
        "colab": {
          "base_uri": "https://localhost:8080/"
        },
        "id": "tjCfdYmXaytr",
        "outputId": "30800e17-cd03-4cdd-c4b1-04420560e1dc"
      },
      "execution_count": 16,
      "outputs": [
        {
          "output_type": "stream",
          "name": "stdout",
          "text": [
            "23 0.5072972343239854\n",
            "24 0.5383442579145288\n",
            "25 0.5686997039694639\n",
            "26 0.5982408201359389\n",
            "27 0.626859282263242\n",
            "28 0.6544614723423994\n",
            "29 0.680968537477777\n",
            "30 0.7063162427192686\n",
            "31 0.7304546337286438\n"
          ]
        }
      ]
    },
    {
      "cell_type": "code",
      "source": [],
      "metadata": {
        "id": "LDbrlUipbuIF"
      },
      "execution_count": null,
      "outputs": []
    }
  ]
}